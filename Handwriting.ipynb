{
 "cells": [
  {
   "cell_type": "code",
   "execution_count": 1,
   "id": "global-cambodia",
   "metadata": {},
   "outputs": [
    {
     "name": "stdout",
     "output_type": "stream",
     "text": [
      "数据读取完毕:测试集样本数: 10000\n",
      "数据读取完毕:训练集样本数: 60000\n",
      "一个标签batch: torch.Size([128])\n",
      "一个样本batch： torch.Size([128, 1, 28, 28])\n"
     ]
    }
   ],
   "source": [
    "import torch\n",
    "import torch.nn as nn\n",
    "from torch.utils.data import DataLoader\n",
    "\n",
    "import torchvision.transforms as transforms\n",
    "from torchvision.datasets import MNIST\n",
    "from torch.utils.data import random_split\n",
    "\n",
    "test_dataset=MNIST(root='data/',\n",
    "                   train=False,\n",
    "                   transform=transforms.ToTensor())\n",
    "\n",
    "train_dataset=MNIST(root='data/',\n",
    "                   train=True,\n",
    "                   transform=transforms.ToTensor())\n",
    "\n",
    "\n",
    "print('数据读取完毕:测试集样本数:',len(test_dataset))\n",
    "print('数据读取完毕:训练集样本数:',len(train_dataset))\n",
    "\n",
    "train_ds,val_ds=random_split(train_dataset,[50000,10000])\n",
    "train_loader=DataLoader(train_ds,128,shuffle=True)\n",
    "val_loader=DataLoader(val_ds,128)\n",
    "\n",
    "for x,y in train_loader:\n",
    "    one_batch_train_data=x\n",
    "    one_batch_train_label=y\n",
    "    break\n",
    "    \n",
    "print('一个标签batch:',one_batch_train_label.size())\n",
    "print('一个样本batch：',one_batch_train_data.size())"
   ]
  },
  {
   "cell_type": "code",
   "execution_count": 2,
   "id": "mediterranean-prescription",
   "metadata": {},
   "outputs": [
    {
     "name": "stdout",
     "output_type": "stream",
     "text": [
      "model对一个batch的输出size: torch.Size([128, 10])\n",
      "一个batch的标签size: torch.Size([128])\n",
      "tensor(2.3234, grad_fn=<NllLossBackward>)\n"
     ]
    }
   ],
   "source": [
    "import torch.nn.functional as F\n",
    "model=nn.Linear(784,10)\n",
    "one_batch_train_data=one_batch_train_data.reshape(-1,784)\n",
    "preds=model(one_batch_train_data)\n",
    "print('model对一个batch的输出size:',preds.size())\n",
    "print('一个batch的标签size:',one_batch_train_label.size())\n",
    "\n",
    "loss=F.cross_entropy(preds,one_batch_train_label)\n",
    "print(loss)\n",
    "\n",
    "#cross_entropy 可以对（128,10）和（128）直接求loss\n",
    "#预测需再前标签需在后"
   ]
  },
  {
   "cell_type": "code",
   "execution_count": 7,
   "id": "ruled-wealth",
   "metadata": {},
   "outputs": [
    {
     "data": {
      "text/plain": [
       "torch.int64"
      ]
     },
     "execution_count": 7,
     "metadata": {},
     "output_type": "execute_result"
    }
   ],
   "source": [
    "one_batch_train_label.dtype"
   ]
  },
  {
   "cell_type": "code",
   "execution_count": 20,
   "id": "interesting-vietnamese",
   "metadata": {},
   "outputs": [
    {
     "name": "stdout",
     "output_type": "stream",
     "text": [
      "tensor([[1.0000],\n",
      "        [2.0000],\n",
      "        [5.9000]])\n",
      "[tensor([1.]), tensor([2.]), tensor([5.9000])]\n",
      "tensor([[1.0000],\n",
      "        [2.0000],\n",
      "        [5.9000]])\n",
      "in the 10th epoch:\tacc:0.348\tloss:2.393\n"
     ]
    }
   ],
   "source": [
    "#torch.stack把list 中的torch合并在一起，总体变成一个torch\n",
    "\n",
    "a=torch.tensor([[1.],[2.],[5.90]])\n",
    "print(a)\n",
    "b=[i for i in a]\n",
    "print(b)\n",
    "c=torch.stack(b)\n",
    "print(c)\n",
    "\n"
   ]
  },
  {
   "cell_type": "code",
   "execution_count": 7,
   "id": "designed-wallet",
   "metadata": {},
   "outputs": [],
   "source": [
    "import torch\n",
    "import torch.nn as nn\n",
    "import torch.nn.functional as F\n",
    "\n",
    "imputsize=28*28\n",
    "numclass=10\n",
    "\n",
    "def accuracy(out,labels):  \n",
    "    _,preds=torch.max(out,dim=1)\n",
    "    correct_pred=torch.sum(preds==labels)/len(labels)\n",
    "    return correct_pred\n",
    "    \n",
    "\n",
    "#框架\n",
    "def fit(lr,epochs,model,train_loader,val_loader,optimizer=torch.optim.SGD):\n",
    "    optim=optimizer(model.parameters(),lr)\n",
    "    history=[]\n",
    "    #保存validation过程中的loss 和acc\n",
    "    \n",
    "    for epoch in range(epochs):\n",
    "        \n",
    "        for batch in train_loader:\n",
    "            #训练过程\n",
    "            \n",
    "            #training_step接受一个batch，算出batch的总loss\n",
    "            loss=model.training_step(batch)  \n",
    "            loss.backward()\n",
    "            optim.step()\n",
    "            optim.zero_grad()\n",
    "            \n",
    "        #验证过程 不用梯度回传 但是需要输出loss和acc(此时一个batch已经结束了)\n",
    "        #\n",
    "        outputs=[model.validation_step(batch) for batch in val_loader]\n",
    "        result=model.evaluation(outputs)\n",
    "        history.append(result)\n",
    "        print('in the {}th epoch:\\tacc:{:.3f}\\tloss:{:.3f}'.format\n",
    "              (epoch+1,result['acc'],result['loss']))\n",
    "    return history\n",
    "\n",
    "class MnistModel(nn.Module):\n",
    "    \n",
    "    def __init__(self):\n",
    "        super().__init__()\n",
    "        self.linear=nn.Linear(imputsize,numclass)\n",
    "    \n",
    "    def forward(self,xb):\n",
    "        xb=xb.reshape(-1,784)\n",
    "        out=self.linear(xb)\n",
    "        return out\n",
    "    \n",
    "    def training_step(self,batch):\n",
    "        images,labels=batch\n",
    "        out=self(images)\n",
    "        loss=F.cross_entropy(out,labels)\n",
    "        return loss\n",
    "        \n",
    "        \n",
    "    def validation_step(self,batch):\n",
    "        images,labels=batch\n",
    "        out=self(images)\n",
    "        loss=F.cross_entropy(out,labels)\n",
    "        acc=accuracy(out,labels)\n",
    "        return {'val_loss': loss, 'val_acc': acc}\n",
    "   \n",
    "    def evaluation(self,outputs):\n",
    "        loss=[x['val_loss'] for x in outputs]\n",
    "        acc=[x['val_acc'] for x in outputs]\n",
    "        epoch_loss=torch.stack(loss).mean()\n",
    "        epoch_acc=torch.stack(acc).mean()\n",
    "        return {'acc':epoch_acc.item(),'loss':epoch_loss.item()}\n",
    "    \n",
    "    \n",
    "model=MnistModel()\n"
   ]
  },
  {
   "cell_type": "code",
   "execution_count": 8,
   "id": "contrary-letter",
   "metadata": {},
   "outputs": [
    {
     "name": "stdout",
     "output_type": "stream",
     "text": [
      "in the 1th epoch:\tacc:0.590\tloss:1.986\n",
      "in the 2th epoch:\tacc:0.719\tloss:1.708\n",
      "in the 3th epoch:\tacc:0.758\tloss:1.500\n",
      "in the 4th epoch:\tacc:0.781\tloss:1.343\n",
      "in the 5th epoch:\tacc:0.796\tloss:1.222\n"
     ]
    }
   ],
   "source": [
    "history1=fit(0.001,5,model,train_loader,val_loader)\n",
    "\n",
    "#列表，每一项是字典"
   ]
  },
  {
   "cell_type": "code",
   "execution_count": 44,
   "id": "stuffed-small",
   "metadata": {
    "scrolled": true
   },
   "outputs": [
    {
     "name": "stdout",
     "output_type": "stream",
     "text": [
      "in the 1th epoch:\tacc:0.806\tloss:1.124\n",
      "in the 2th epoch:\tacc:0.814\tloss:1.049\n",
      "in the 3th epoch:\tacc:0.820\tloss:0.988\n",
      "in the 4th epoch:\tacc:0.826\tloss:0.937\n",
      "in the 5th epoch:\tacc:0.830\tloss:0.894\n"
     ]
    }
   ],
   "source": [
    "history2=fit(0.001,5,model,train_loader,val_loader)"
   ]
  },
  {
   "cell_type": "code",
   "execution_count": 45,
   "id": "novel-pulse",
   "metadata": {
    "scrolled": true
   },
   "outputs": [
    {
     "name": "stdout",
     "output_type": "stream",
     "text": [
      "in the 1th epoch:\tacc:0.833\tloss:0.857\n",
      "in the 2th epoch:\tacc:0.838\tloss:0.825\n",
      "in the 3th epoch:\tacc:0.840\tloss:0.798\n",
      "in the 4th epoch:\tacc:0.842\tloss:0.773\n",
      "in the 5th epoch:\tacc:0.844\tloss:0.751\n"
     ]
    }
   ],
   "source": [
    "history3=fit(0.001,5,model,train_loader,val_loader)"
   ]
  },
  {
   "cell_type": "code",
   "execution_count": 46,
   "id": "opposite-melissa",
   "metadata": {
    "scrolled": false
   },
   "outputs": [
    {
     "data": {
      "text/plain": [
       "Text(0.5, 1.0, 'Accuracy vs. epoch')"
      ]
     },
     "execution_count": 46,
     "metadata": {},
     "output_type": "execute_result"
    },
    {
     "data": {
      "image/png": "[encoded data removed]",
      "text/plain": [
       "<Figure size 432x288 with 1 Axes>"
      ]
     },
     "metadata": {
      "needs_background": "light"
     },
     "output_type": "display_data"
    }
   ],
   "source": [
    "import matplotlib.pyplot as plt\n",
    "\n",
    "history=history1+history2+history3\n",
    "acc=[i['acc'] for i in history]\n",
    "plt.plot(acc,'-x')\n",
    "plt.xlabel('epoch')\n",
    "plt.ylabel('accuracy')\n",
    "plt.title('Accuracy vs. epoch')"
   ]
  },
  {
   "cell_type": "code",
   "execution_count": 63,
   "id": "sunrise-element",
   "metadata": {},
   "outputs": [
    {
     "data": {
      "text/plain": [
       "0"
      ]
     },
     "execution_count": 63,
     "metadata": {},
     "output_type": "execute_result"
    }
   ],
   "source": [
    "torch.max(pred,dim=1)[1].item()\n"
   ]
  },
  {
   "cell_type": "code",
   "execution_count": 67,
   "id": "induced-irrigation",
   "metadata": {
    "scrolled": true
   },
   "outputs": [
    {
     "name": "stdout",
     "output_type": "stream",
     "text": [
      "8\n"
     ]
    },
    {
     "data": {
      "image/png": "[encoded data removed]",
      "text/plain": [
       "<Figure size 432x288 with 1 Axes>"
      ]
     },
     "metadata": {
      "needs_background": "light"
     },
     "output_type": "display_data"
    }
   ],
   "source": [
    "#testing\n",
    "\n",
    "test_dataset=MNIST(root='data/',\n",
    "                   train=False,\n",
    "                   transform=transforms.ToTensor())\n",
    "img,labels=test_dataset[1839]\n",
    "plt.imshow(img[0],cmap='gray')\n",
    "pred=model(img.reshape(-1,784))\n",
    "print(torch.max(pred,dim=1)[1].item())"
   ]
  },
  {
   "cell_type": "code",
   "execution_count": 69,
   "id": "welsh-andrew",
   "metadata": {},
   "outputs": [
    {
     "data": {
      "text/plain": [
       "{'acc': 0.8485351800918579, 'loss': 0.7232864499092102}"
      ]
     },
     "execution_count": 69,
     "metadata": {},
     "output_type": "execute_result"
    }
   ],
   "source": [
    "test_loader=DataLoader(test_dataset,batch_size=256)\n",
    "\n",
    "outputs=[model.validation_step(batch) for batch in test_loader]\n",
    "result=evaluation(outputs)\n",
    "result"
   ]
  },
  {
   "cell_type": "code",
   "execution_count": 73,
   "id": "reported-estimate",
   "metadata": {},
   "outputs": [],
   "source": [
    "torch.save(model.state_dict(),'mnist-logistic.pth')"
   ]
  },
  {
   "cell_type": "code",
   "execution_count": 75,
   "id": "cheap-yeast",
   "metadata": {},
   "outputs": [
    {
     "name": "stdout",
     "output_type": "stream",
     "text": [
      "{'acc': 0.03486328199505806, 'loss': 2.3259384632110596}\n",
      "{'acc': 0.8485351800918579, 'loss': 0.7232864499092102}\n"
     ]
    }
   ],
   "source": [
    "model2=MnistModel()\n",
    "outputs=[model2.validation_step(batch) for batch in test_loader]\n",
    "result=evaluation(outputs)\n",
    "print(result)\n",
    "\n",
    "model2.load_state_dict(torch.load('mnist-logistic.pth'))\n",
    "outputs=[model2.validation_step(batch) for batch in test_loader]\n",
    "result=evaluation(outputs)\n",
    "print(result)\n"
   ]
  },
  {
   "cell_type": "code",
   "execution_count": 76,
   "id": "prime-lighting",
   "metadata": {},
   "outputs": [
    {
     "name": "stdout",
     "output_type": "stream",
     "text": [
      "torch.Size([128]) torch.Size([128])\n",
      "tensor(14)\n",
      "tensor(0.1094)\n"
     ]
    }
   ],
   "source": [
    "import torch\n",
    "import torch.nn as nn\n",
    "\n",
    "\n",
    "model=nn.Linear(28*28,10)\n",
    "\n",
    "    \n",
    "#softmax最后要归一化，必须指定是在128维空间上归一化还是10维空间上\n",
    "x=one_batch_train_data.reshape(-1,784)\n",
    "y=model(x)\n",
    "\n",
    "preds=F.softmax(y,dim=1)\n",
    "max_value,max_index=torch.max(preds,dim=1)\n",
    "print(max_index.size(),one_batch_train_label.size())\n",
    "print(torch.sum(max_index==one_batch_train_label))\n",
    "print(torch.sum(max_index==one_batch_train_label)/len(max_index))"
   ]
  },
  {
   "cell_type": "code",
   "execution_count": 1,
   "id": "specialized-grammar",
   "metadata": {},
   "outputs": [
    {
     "name": "stdout",
     "output_type": "stream",
     "text": [
      "数据读取完毕:测试集样本数: 10000\n",
      "数据读取完毕:训练集样本数: 60000\n"
     ]
    }
   ],
   "source": [
    "import torch\n",
    "import torch.nn as nn\n",
    "from torch.utils.data import DataLoader\n",
    "\n",
    "import torchvision.transforms as transforms\n",
    "from torchvision.datasets import MNIST\n",
    "from torch.utils.data import random_split\n",
    "\n",
    "test_dataset=MNIST(root='data/',\n",
    "                   train=False,\n",
    "                   transform=transforms.ToTensor())\n",
    "\n",
    "train_dataset=MNIST(root='data/',\n",
    "                   train=True,\n",
    "                   transform=transforms.ToTensor())\n",
    "\n",
    "\n",
    "print('数据读取完毕:测试集样本数:',len(test_dataset))\n",
    "print('数据读取完毕:训练集样本数:',len(train_dataset))\n",
    "\n",
    "train_ds,val_ds=random_split(train_dataset,[50000,10000])"
   ]
  },
  {
   "cell_type": "code",
   "execution_count": 4,
   "id": "ideal-cuisine",
   "metadata": {},
   "outputs": [],
   "source": [
    "from torch.utils.data import DataLoader\n",
    "from \n",
    "train_loader=DataLoader(train_ds,20)"
   ]
  },
  {
   "cell_type": "code",
   "execution_count": 6,
   "id": "following-plane",
   "metadata": {},
   "outputs": [],
   "source": [
    "for i in train_loader:\n",
    "    x=i\n",
    "    break"
   ]
  },
  {
   "cell_type": "code",
   "execution_count": 8,
   "id": "homeless-trademark",
   "metadata": {},
   "outputs": [
    {
     "data": {
      "text/plain": [
       "torch.Size([20, 1, 28, 28])"
      ]
     },
     "execution_count": 8,
     "metadata": {},
     "output_type": "execute_result"
    }
   ],
   "source": [
    "x[0].shape"
   ]
  }
 ],
 "metadata": {
  "kernelspec": {
   "display_name": "python385",
   "language": "python",
   "name": "python385"
  },
  "language_info": {
   "codemirror_mode": {
    "name": "ipython",
    "version": 3
   },
   "file_extension": ".py",
   "mimetype": "text/x-python",
   "name": "python",
   "nbconvert_exporter": "python",
   "pygments_lexer": "ipython3",
   "version": "3.8.5"
  }
 },
 "nbformat": 4,
 "nbformat_minor": 5
}
